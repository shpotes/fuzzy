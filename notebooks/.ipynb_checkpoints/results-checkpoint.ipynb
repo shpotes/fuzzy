{
 "cells": [
  {
   "cell_type": "code",
   "execution_count": 1,
   "metadata": {},
   "outputs": [
    {
     "name": "stdout",
     "output_type": "stream",
     "text": [
      "/home/shpotes/Courses/EAFIT/inteligencia-artificial/santiago/fuzziness/tetris\n"
     ]
    }
   ],
   "source": [
    "%load_ext autoreload\n",
    "%cd ..\n",
    "%autoreload 2"
   ]
  },
  {
   "cell_type": "code",
   "execution_count": 2,
   "metadata": {},
   "outputs": [],
   "source": [
    "from src.brain import *\n",
    "from matplotlib import animation, rc\n",
    "from IPython.display import HTML, Image\n",
    "import warnings\n",
    "\n",
    "warnings.filterwarnings(\"ignore\")\n",
    "rc('animation', html='html5')"
   ]
  },
  {
   "cell_type": "code",
   "execution_count": 3,
   "metadata": {},
   "outputs": [],
   "source": [
    "from src.engine import Node\n",
    "from src.tetris import TetrisEnv\n",
    "import matplotlib.pyplot as plt\n",
    "\n",
    "env = TetrisEnv()\n",
    "env.reset()\n",
    "state = Node(env)"
   ]
  },
  {
   "cell_type": "code",
   "execution_count": 4,
   "metadata": {},
   "outputs": [
    {
     "name": "stderr",
     "output_type": "stream",
     "text": [
      "100%|██████████| 1000/1000 [1:16:05<00:00,  9.65s/it]\n"
     ]
    }
   ],
   "source": [
    "from tqdm import trange\n",
    "from src.utils import *\n",
    "\n",
    "plays = []\n",
    "expert_config = {'t_norm': t_drastic, 's_norm': s_drastic, 'deffuz': 'mom'}\n",
    "\n",
    "for e in trange(1000):\n",
    "    env.reset()\n",
    "    state = Node(env)\n",
    "    \n",
    "    ends = False \n",
    "    video = []\n",
    "\n",
    "    while not ends:\n",
    "        state.prop()\n",
    "        state, actions = state.expert_actions(expert_config)\n",
    "\n",
    "        for acts in actions:\n",
    "            board, reward, ends, _ = env.step(acts)\n",
    "            video.append(board)\n",
    "            \n",
    "    plays.append((reward, video))"
   ]
  },
  {
   "cell_type": "code",
   "execution_count": 5,
   "metadata": {},
   "outputs": [],
   "source": [
    "rewards, videos = zip(*plays)"
   ]
  },
  {
   "cell_type": "code",
   "execution_count": 6,
   "metadata": {},
   "outputs": [],
   "source": [
    "reward_centroid = np.array(rewards)"
   ]
  },
  {
   "cell_type": "code",
   "execution_count": 7,
   "metadata": {},
   "outputs": [
    {
     "data": {
      "text/plain": [
       "16.84"
      ]
     },
     "execution_count": 7,
     "metadata": {},
     "output_type": "execute_result"
    }
   ],
   "source": [
    "reward_centroid.mean()"
   ]
  },
  {
   "cell_type": "code",
   "execution_count": 8,
   "metadata": {},
   "outputs": [],
   "source": [
    "best_video = max(plays, key=lambda x: x[0])[1]"
   ]
  },
  {
   "cell_type": "code",
   "execution_count": 9,
   "metadata": {},
   "outputs": [],
   "source": [
    "reward_centroid_video = np.stack(best_video)"
   ]
  },
  {
   "cell_type": "code",
   "execution_count": 12,
   "metadata": {},
   "outputs": [],
   "source": [
    "np.save(open('output/drastic_mom_reward.npy', 'wb'), reward_centroid)"
   ]
  },
  {
   "cell_type": "code",
   "execution_count": 11,
   "metadata": {},
   "outputs": [],
   "source": [
    "np.save(open('output/drastic_mom_reward_video.npy', 'wb'), reward_centroid_video)"
   ]
  }
 ],
 "metadata": {
  "kernelspec": {
   "display_name": "Python 3",
   "language": "python",
   "name": "python3"
  },
  "language_info": {
   "codemirror_mode": {
    "name": "ipython",
    "version": 3
   },
   "file_extension": ".py",
   "mimetype": "text/x-python",
   "name": "python",
   "nbconvert_exporter": "python",
   "pygments_lexer": "ipython3",
   "version": "3.8.2"
  }
 },
 "nbformat": 4,
 "nbformat_minor": 4
}
