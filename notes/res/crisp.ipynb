{
 "cells": [
  {
   "cell_type": "code",
   "execution_count": 1,
   "metadata": {},
   "outputs": [],
   "source": [
    "import numpy as np\n",
    "import matplotlib.pyplot as plt \n",
    "import matplotlib "
   ]
  },
  {
   "cell_type": "code",
   "execution_count": 16,
   "metadata": {},
   "outputs": [],
   "source": [
    "matplotlib.rc('xtick', labelsize=15);\n",
    "matplotlib.rc('ytick', labelsize=15);"
   ]
  },
  {
   "cell_type": "code",
   "execution_count": 18,
   "metadata": {},
   "outputs": [
    {
     "data": {
      "image/png": "[encoded data removed]",
      "text/plain": [
       "<Figure size 432x288 with 1 Axes>"
      ]
     },
     "metadata": {
      "needs_background": "light"
     },
     "output_type": "display_data"
    }
   ],
   "source": [
    "a, b = 3, 7\n",
    "\n",
    "fig, ax = plt.subplots()\n",
    "\n",
    "plt.plot(np.arange(a + 1), np.zeros(a + 1), 'b')\n",
    "plt.plot(np.arange(a, b + 1), np.ones(b - a + 1), 'b')\n",
    "plt.plot(np.arange(b, 11), np.zeros(11 - b), 'b')\n",
    "\n",
    "ax.set_xticks([a, b])\n",
    "ax.set_xticklabels(['a', 'b'])\n",
    "ax.set_yticks([0, 1])\n",
    "ax.set_ylabel('$m_A(x)$', fontsize=15)\n",
    "ax.set_xlabel('$x$', fontsize=15)\n",
    "\n",
    "ax.spines['right'].set_visible(False)\n",
    "ax.spines['top'].set_visible(False)\n",
    "\n",
    "plt.savefig('crisp_set.png', dpi=224)"
   ]
  },
  {
   "cell_type": "code",
   "execution_count": 21,
   "metadata": {},
   "outputs": [
    {
     "data": {
      "image/png": "[encoded data removed]",
      "text/plain": [
       "<Figure size 432x288 with 1 Axes>"
      ]
     },
     "metadata": {
      "needs_background": "light"
     },
     "output_type": "display_data"
    }
   ],
   "source": [
    "a, b = 3, 7\n",
    "\n",
    "fig, ax = plt.subplots()\n",
    "\n",
    "plt.plot((a <= np.arange(11)) & (np.arange(11) <= b), 'b')\n",
    "\n",
    "ax.set_xticks([a, b])\n",
    "ax.set_xticklabels(['a', 'b'])\n",
    "ax.set_yticks([0, 1])\n",
    "ax.set_ylabel('$\\mu_\\~A(x)$', fontsize=15)\n",
    "ax.set_xlabel('$x$', fontsize=15)\n",
    "\n",
    "ax.spines['right'].set_visible(False)\n",
    "ax.spines['top'].set_visible(False)\n",
    "\n",
    "plt.savefig('fuzzy_set.png', dpi=224)"
   ]
  },
  {
   "cell_type": "code",
   "execution_count": null,
   "metadata": {},
   "outputs": [],
   "source": []
  }
 ],
 "metadata": {
  "kernelspec": {
   "display_name": "Python 3",
   "language": "python",
   "name": "python3"
  },
  "language_info": {
   "codemirror_mode": {
    "name": "ipython",
    "version": 3
   },
   "file_extension": ".py",
   "mimetype": "text/x-python",
   "name": "python",
   "nbconvert_exporter": "python",
   "pygments_lexer": "ipython3",
   "version": "3.8.2"
  }
 },
 "nbformat": 4,
 "nbformat_minor": 4
}
